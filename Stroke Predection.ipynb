{
 "cells": [
  {
   "cell_type": "markdown",
   "id": "8326ba88",
   "metadata": {},
   "source": [
    "## Objective:\n",
    "- The objective from this project is to create a <b>Logistic Regression Classifier</b> to predict the <b>Stroke Condition</b>.\n",
    "- <b>Stoke</b> is a condition in which either the blood flow to the brain stops or blood flow is excessive.\n",
    "- It is required to obtain <b>ROC > 0.65</b>."
   ]
  },
  {
   "cell_type": "markdown",
   "id": "0eb78c16",
   "metadata": {},
   "source": [
    "### Data:\n",
    "- Data is provided in csv format in a file named <b>healthcare-dataset-stroke-data.csv</b>"
   ]
  },
  {
   "cell_type": "markdown",
   "id": "7c842b79",
   "metadata": {},
   "source": [
    "### Column names and data types are as follow:\n",
    "- id, integer.\n",
    "- gender, string.\n",
    "- age, double.\n",
    "- hypertension, integer.\n",
    "- heart_disease, integer.\n",
    "- ever_married, string.\n",
    "- work_type, string.\n",
    "- Residence_type, string.\n",
    "- avg_glucose_level, double.\n",
    "- bmi, double.\n",
    "- smoking_status, string.\n",
    "- stroke, integer <b>(Target Label)</b>.\n",
    "If the person has stroke the stroke label value is <b>\"1\"</b> otherwise <b>\"0\"</b>."
   ]
  },
  {
   "cell_type": "markdown",
   "id": "6971f788",
   "metadata": {
    "id": "gUxZnsqrmynW"
   },
   "source": [
    "## To perform this task follow the following guiding steps:"
   ]
  },
  {
   "cell_type": "markdown",
   "id": "e31bc851",
   "metadata": {
    "id": "gUxZnsqrmynW"
   },
   "source": [
    "### Create a spark session and import the required libraries"
   ]
  },
  {
   "cell_type": "code",
   "execution_count": 1,
   "id": "ab3ba311",
   "metadata": {},
   "outputs": [
    {
     "name": "stderr",
     "output_type": "stream",
     "text": [
      "21/11/03 15:35:41 WARN Utils: Your hostname, TheDragon resolves to a loopback address: 127.0.1.1; using 192.168.137.88 instead (on interface wlo1)\n",
      "21/11/03 15:35:41 WARN Utils: Set SPARK_LOCAL_IP if you need to bind to another address\n",
      "WARNING: An illegal reflective access operation has occurred\n",
      "WARNING: Illegal reflective access by org.apache.spark.unsafe.Platform (file:/opt/spark/jars/spark-unsafe_2.12-3.0.1.jar) to constructor java.nio.DirectByteBuffer(long,int)\n",
      "WARNING: Please consider reporting this to the maintainers of org.apache.spark.unsafe.Platform\n",
      "WARNING: Use --illegal-access=warn to enable warnings of further illegal reflective access operations\n",
      "WARNING: All illegal access operations will be denied in a future release\n",
      "21/11/03 15:35:44 WARN NativeCodeLoader: Unable to load native-hadoop library for your platform... using builtin-java classes where applicable\n",
      "Using Spark's default log4j profile: org/apache/spark/log4j-defaults.properties\n",
      "Setting default log level to \"WARN\".\n",
      "To adjust logging level use sc.setLogLevel(newLevel). For SparkR, use setLogLevel(newLevel).\n",
      "21/11/03 15:35:47 WARN Utils: Service 'SparkUI' could not bind on port 4040. Attempting port 4041.\n"
     ]
    },
    {
     "data": {
      "text/html": [
       "\n",
       "            <div>\n",
       "                <p><b>SparkSession - in-memory</b></p>\n",
       "                \n",
       "        <div>\n",
       "            <p><b>SparkContext</b></p>\n",
       "\n",
       "            <p><a href=\"http://TheDragon.mshome.net:4041\">Spark UI</a></p>\n",
       "\n",
       "            <dl>\n",
       "              <dt>Version</dt>\n",
       "                <dd><code>v3.0.1</code></dd>\n",
       "              <dt>Master</dt>\n",
       "                <dd><code>local[*]</code></dd>\n",
       "              <dt>AppName</dt>\n",
       "                <dd><code>Final_Exam</code></dd>\n",
       "            </dl>\n",
       "        </div>\n",
       "        \n",
       "            </div>\n",
       "        "
      ],
      "text/plain": [
       "<pyspark.sql.session.SparkSession at 0x7fc1fd9ab640>"
      ]
     },
     "execution_count": 1,
     "metadata": {},
     "output_type": "execute_result"
    }
   ],
   "source": [
    "import warnings\n",
    "warnings.filterwarnings(\"ignore\")\n",
    "\n",
    "import findspark\n",
    "findspark.init()\n",
    "\n",
    "import pyspark\n",
    "from pyspark.sql import SparkSession\n",
    "from pyspark.sql.types import *\n",
    "from pyspark.sql.functions import *\n",
    "\n",
    "import seaborn as sns\n",
    "\n",
    "spark = SparkSession.builder.appName('Final_Exam').getOrCreate()\n",
    "spark"
   ]
  },
  {
   "cell_type": "markdown",
   "id": "843b8468",
   "metadata": {
    "id": "gUxZnsqrmynW"
   },
   "source": [
    "### Create a data schema programatically"
   ]
  },
  {
   "cell_type": "code",
   "execution_count": 2,
   "id": "8616fe16",
   "metadata": {},
   "outputs": [],
   "source": [
    "schema = StructType([StructField(\"id\", IntegerType(), False),\n",
    "                     StructField(\"gender\", StringType(), False),\n",
    "                     StructField(\"age\", DoubleType(), False),\n",
    "                     StructField(\"hypertension\", IntegerType(), False),\n",
    "                     StructField(\"heart_disease\", IntegerType(), False),\n",
    "                     StructField(\"ever_married\", StringType(), False),\n",
    "                     StructField(\"work_type\", StringType(), False),\n",
    "                     StructField(\"Residence_type\", StringType(), False),\n",
    "                     StructField(\"avg_glucose_level\", DoubleType(), False),\n",
    "                     StructField(\"bmi\", DoubleType(), False),\n",
    "                     StructField(\"smoking_status\", StringType(), False),\n",
    "                     StructField(\"stroke\", IntegerType(), False)])"
   ]
  },
  {
   "cell_type": "markdown",
   "id": "2d00718f",
   "metadata": {
    "id": "gUxZnsqrmynW"
   },
   "source": [
    "### Read the data using the standard DataReader (Key,Value) pairs format\n",
    "- Provide the schema and any other required options."
   ]
  },
  {
   "cell_type": "code",
   "execution_count": 3,
   "id": "61fcc4cd",
   "metadata": {},
   "outputs": [],
   "source": [
    "df = spark.read.csv(\"./healthcare-dataset-stroke-data.csv\", header=True, schema=schema)"
   ]
  },
  {
   "cell_type": "markdown",
   "id": "974bc193",
   "metadata": {
    "id": "gUxZnsqrmynW"
   },
   "source": [
    "### Explore the data \n",
    "#### You have to do the following:\n",
    "- Print the Schema.\n",
    "- Show the first 10 rows from the data.\n",
    "- Explore null values and show how many null values in each column.\n",
    "- Plot a count plot for the target label and <b>notice the graph</b>.\n",
    "- Perform any additional EDA you find useful."
   ]
  },
  {
   "cell_type": "code",
   "execution_count": 4,
   "id": "353b6f34",
   "metadata": {},
   "outputs": [
    {
     "name": "stdout",
     "output_type": "stream",
     "text": [
      "root\n",
      " |-- id: integer (nullable = true)\n",
      " |-- gender: string (nullable = true)\n",
      " |-- age: double (nullable = true)\n",
      " |-- hypertension: integer (nullable = true)\n",
      " |-- heart_disease: integer (nullable = true)\n",
      " |-- ever_married: string (nullable = true)\n",
      " |-- work_type: string (nullable = true)\n",
      " |-- Residence_type: string (nullable = true)\n",
      " |-- avg_glucose_level: double (nullable = true)\n",
      " |-- bmi: double (nullable = true)\n",
      " |-- smoking_status: string (nullable = true)\n",
      " |-- stroke: integer (nullable = true)\n",
      "\n"
     ]
    }
   ],
   "source": [
    "df.printSchema()"
   ]
  },
  {
   "cell_type": "code",
   "execution_count": 5,
   "id": "7f7531c4-7d73-4fca-a1c1-81af514b3357",
   "metadata": {
    "colab": {
     "base_uri": "https://localhost:8080/"
    },
    "id": "0hreFqwasAW8",
    "outputId": "5f4215b3-9c46-4f19-b6bc-cf40cf16e07d"
   },
   "outputs": [
    {
     "name": "stderr",
     "output_type": "stream",
     "text": [
      "                                                                                \r"
     ]
    },
    {
     "name": "stdout",
     "output_type": "stream",
     "text": [
      "+-----+------+----+------------+-------------+------------+-------------+--------------+-----------------+----+---------------+------+\n",
      "|   id|gender| age|hypertension|heart_disease|ever_married|    work_type|Residence_type|avg_glucose_level| bmi| smoking_status|stroke|\n",
      "+-----+------+----+------------+-------------+------------+-------------+--------------+-----------------+----+---------------+------+\n",
      "| 9046|  Male|67.0|           0|            1|         Yes|      Private|         Urban|           228.69|36.6|formerly smoked|     1|\n",
      "|51676|Female|61.0|           0|            0|         Yes|Self-employed|         Rural|           202.21|null|   never smoked|     1|\n",
      "|31112|  Male|80.0|           0|            1|         Yes|      Private|         Rural|           105.92|32.5|   never smoked|     1|\n",
      "|60182|Female|49.0|           0|            0|         Yes|      Private|         Urban|           171.23|34.4|         smokes|     1|\n",
      "| 1665|Female|79.0|           1|            0|         Yes|Self-employed|         Rural|           174.12|24.0|   never smoked|     1|\n",
      "|56669|  Male|81.0|           0|            0|         Yes|      Private|         Urban|           186.21|29.0|formerly smoked|     1|\n",
      "|53882|  Male|74.0|           1|            1|         Yes|      Private|         Rural|            70.09|27.4|   never smoked|     1|\n",
      "|10434|Female|69.0|           0|            0|          No|      Private|         Urban|            94.39|22.8|   never smoked|     1|\n",
      "|27419|Female|59.0|           0|            0|         Yes|      Private|         Rural|            76.15|null|        Unknown|     1|\n",
      "|60491|Female|78.0|           0|            0|         Yes|      Private|         Urban|            58.57|24.2|        Unknown|     1|\n",
      "+-----+------+----+------------+-------------+------------+-------------+--------------+-----------------+----+---------------+------+\n",
      "only showing top 10 rows\n",
      "\n"
     ]
    }
   ],
   "source": [
    "df.show(10)"
   ]
  },
  {
   "cell_type": "code",
   "execution_count": 6,
   "id": "ec75cac5-443a-47a4-9ff6-dd2533f013bf",
   "metadata": {
    "colab": {
     "base_uri": "https://localhost:8080/"
    },
    "id": "6fb198f0",
    "outputId": "8451473c-8ceb-4e37-f841-d2a260789a8b"
   },
   "outputs": [],
   "source": [
    "Null_columns = []\n",
    "for column in df.columns:\n",
    "    Null_count = df.filter(col(column).isNull()).count()\n",
    "    if Null_count != 0:\n",
    "        Null_columns.append((column, Null_count))"
   ]
  },
  {
   "cell_type": "code",
   "execution_count": 7,
   "id": "154f4bf4-4565-4497-a46d-3c5bb97d39ec",
   "metadata": {},
   "outputs": [
    {
     "data": {
      "text/plain": [
       "[('bmi', 201)]"
      ]
     },
     "execution_count": 7,
     "metadata": {},
     "output_type": "execute_result"
    }
   ],
   "source": [
    "Null_columns"
   ]
  },
  {
   "cell_type": "code",
   "execution_count": 8,
   "id": "23c7ab11-4f3a-45cd-8a7f-d91674844004",
   "metadata": {},
   "outputs": [
    {
     "name": "stderr",
     "output_type": "stream",
     "text": [
      "                                                                                \r"
     ]
    },
    {
     "name": "stdout",
     "output_type": "stream",
     "text": [
      "+------+-------------+\n",
      "|Column|Missing_value|\n",
      "+------+-------------+\n",
      "|   bmi|          201|\n",
      "+------+-------------+\n",
      "\n"
     ]
    }
   ],
   "source": [
    "Null_columns_df  = spark.createDataFrame(Null_columns, ['Column', 'Missing_value'])\n",
    "Null_columns_df.show()"
   ]
  },
  {
   "cell_type": "code",
   "execution_count": 9,
   "id": "4c6c1168-32db-48e9-9ccf-9182c66b2608",
   "metadata": {
    "colab": {
     "base_uri": "https://localhost:8080/",
     "height": 279
    },
    "id": "0qrhN6c3uZoy",
    "outputId": "6e4d76a3-5072-4ab5-a084-defca3e8e953"
   },
   "outputs": [
    {
     "data": {
      "image/png": "[encoded data removed]",
      "text/plain": [
       "<Figure size 432x288 with 1 Axes>"
      ]
     },
     "metadata": {
      "needs_background": "light"
     },
     "output_type": "display_data"
    }
   ],
   "source": [
    "stroke = df.toPandas()['stroke']\n",
    "sns.countplot(stroke);"
   ]
  },
  {
   "cell_type": "markdown",
   "id": "59b770cb",
   "metadata": {},
   "source": [
    "### Get the summary statistics of the age column\n",
    "- You will find the minimum age is about <b>0.08</b>.\n",
    "- Remove rows for the age below <b>2 years old</b>."
   ]
  },
  {
   "cell_type": "code",
   "execution_count": 10,
   "id": "2f7c4b0f-7eba-4a58-9035-a58bc652c25f",
   "metadata": {
    "colab": {
     "base_uri": "https://localhost:8080/"
    },
    "id": "eE5_orgQvXgL",
    "outputId": "4b4e8814-47bc-4eee-fbfa-fe15dae36aca"
   },
   "outputs": [
    {
     "name": "stdout",
     "output_type": "stream",
     "text": [
      "+-------+------------------+\n",
      "|summary|               age|\n",
      "+-------+------------------+\n",
      "|  count|              5110|\n",
      "|   mean|43.226614481409015|\n",
      "| stddev| 22.61264672311348|\n",
      "|    min|              0.08|\n",
      "|    max|              82.0|\n",
      "+-------+------------------+\n",
      "\n"
     ]
    }
   ],
   "source": [
    "df.describe(['age']).show()"
   ]
  },
  {
   "cell_type": "code",
   "execution_count": 11,
   "id": "2e96ef8c-1eea-4fe3-b046-4a012d60dd38",
   "metadata": {
    "id": "ed40fb11"
   },
   "outputs": [],
   "source": [
    "df.createOrReplaceTempView(\"df_view\")\n",
    "df_age_large_than_2 = spark.sql(\"SELECT * FROM df_view WHERE age >= 2\")"
   ]
  },
  {
   "cell_type": "code",
   "execution_count": 12,
   "id": "c77aa8d0-799f-4829-a0cc-79bd0216ae1a",
   "metadata": {
    "colab": {
     "base_uri": "https://localhost:8080/"
    },
    "id": "cc99c0be",
    "outputId": "308f25bb-f1f0-4093-aea0-e5a95470b542"
   },
   "outputs": [
    {
     "name": "stdout",
     "output_type": "stream",
     "text": [
      "+-----+------+----+------------+-------------+------------+-------------+--------------+-----------------+----+---------------+------+\n",
      "|   id|gender| age|hypertension|heart_disease|ever_married|    work_type|Residence_type|avg_glucose_level| bmi| smoking_status|stroke|\n",
      "+-----+------+----+------------+-------------+------------+-------------+--------------+-----------------+----+---------------+------+\n",
      "| 9046|  Male|67.0|           0|            1|         Yes|      Private|         Urban|           228.69|36.6|formerly smoked|     1|\n",
      "|51676|Female|61.0|           0|            0|         Yes|Self-employed|         Rural|           202.21|null|   never smoked|     1|\n",
      "|31112|  Male|80.0|           0|            1|         Yes|      Private|         Rural|           105.92|32.5|   never smoked|     1|\n",
      "|60182|Female|49.0|           0|            0|         Yes|      Private|         Urban|           171.23|34.4|         smokes|     1|\n",
      "| 1665|Female|79.0|           1|            0|         Yes|Self-employed|         Rural|           174.12|24.0|   never smoked|     1|\n",
      "|56669|  Male|81.0|           0|            0|         Yes|      Private|         Urban|           186.21|29.0|formerly smoked|     1|\n",
      "|53882|  Male|74.0|           1|            1|         Yes|      Private|         Rural|            70.09|27.4|   never smoked|     1|\n",
      "|10434|Female|69.0|           0|            0|          No|      Private|         Urban|            94.39|22.8|   never smoked|     1|\n",
      "|27419|Female|59.0|           0|            0|         Yes|      Private|         Rural|            76.15|null|        Unknown|     1|\n",
      "|60491|Female|78.0|           0|            0|         Yes|      Private|         Urban|            58.57|24.2|        Unknown|     1|\n",
      "|12109|Female|81.0|           1|            0|         Yes|      Private|         Rural|            80.43|29.7|   never smoked|     1|\n",
      "|12095|Female|61.0|           0|            1|         Yes|     Govt_job|         Rural|           120.46|36.8|         smokes|     1|\n",
      "|12175|Female|54.0|           0|            0|         Yes|      Private|         Urban|           104.51|27.3|         smokes|     1|\n",
      "| 8213|  Male|78.0|           0|            1|         Yes|      Private|         Urban|           219.84|null|        Unknown|     1|\n",
      "| 5317|Female|79.0|           0|            1|         Yes|      Private|         Urban|           214.09|28.2|   never smoked|     1|\n",
      "|58202|Female|50.0|           1|            0|         Yes|Self-employed|         Rural|           167.41|30.9|   never smoked|     1|\n",
      "|56112|  Male|64.0|           0|            1|         Yes|      Private|         Urban|           191.61|37.5|         smokes|     1|\n",
      "|34120|  Male|75.0|           1|            0|         Yes|      Private|         Urban|           221.29|25.8|         smokes|     1|\n",
      "|27458|Female|60.0|           0|            0|          No|      Private|         Urban|            89.22|37.8|   never smoked|     1|\n",
      "|25226|  Male|57.0|           0|            1|          No|     Govt_job|         Urban|           217.08|null|        Unknown|     1|\n",
      "+-----+------+----+------------+-------------+------------+-------------+--------------+-----------------+----+---------------+------+\n",
      "only showing top 20 rows\n",
      "\n"
     ]
    }
   ],
   "source": [
    "df_age_large_than_2.show()"
   ]
  },
  {
   "cell_type": "markdown",
   "id": "bf8c9498",
   "metadata": {},
   "source": [
    "### Working with gender & smoking_status columns:\n",
    "- Select and show the gender & smoking_status columns\n",
    "- Get the distinct values for each column."
   ]
  },
  {
   "cell_type": "code",
   "execution_count": 13,
   "id": "a8e3f3ab-3f9a-431e-9949-ddef43332200",
   "metadata": {
    "colab": {
     "base_uri": "https://localhost:8080/"
    },
    "id": "66Lw5xltymrh",
    "outputId": "7907155e-adea-4025-f67d-8da871003b56"
   },
   "outputs": [
    {
     "name": "stdout",
     "output_type": "stream",
     "text": [
      "+------+---------------+\n",
      "|gender| smoking_status|\n",
      "+------+---------------+\n",
      "|  Male|formerly smoked|\n",
      "|Female|   never smoked|\n",
      "|  Male|   never smoked|\n",
      "|Female|         smokes|\n",
      "|Female|   never smoked|\n",
      "|  Male|formerly smoked|\n",
      "|  Male|   never smoked|\n",
      "|Female|   never smoked|\n",
      "|Female|        Unknown|\n",
      "|Female|        Unknown|\n",
      "|Female|   never smoked|\n",
      "|Female|         smokes|\n",
      "|Female|         smokes|\n",
      "|  Male|        Unknown|\n",
      "|Female|   never smoked|\n",
      "|Female|   never smoked|\n",
      "|  Male|         smokes|\n",
      "|  Male|         smokes|\n",
      "|Female|   never smoked|\n",
      "|  Male|        Unknown|\n",
      "+------+---------------+\n",
      "only showing top 20 rows\n",
      "\n"
     ]
    }
   ],
   "source": [
    "df_age_large_than_2.createOrReplaceTempView(\"df_age_large_than_2_view\")\n",
    "\n",
    "spark.sql(\"\"\"\n",
    "SELECT gender, smoking_status\n",
    "FROM df_age_large_than_2_view\"\"\").show()"
   ]
  },
  {
   "cell_type": "code",
   "execution_count": 14,
   "id": "2d0e4020-57f5-4a6d-b496-7754073b7425",
   "metadata": {
    "colab": {
     "base_uri": "https://localhost:8080/"
    },
    "id": "925a5ecd",
    "outputId": "80b7bf98-7154-4940-842e-13fb1a89d69b"
   },
   "outputs": [
    {
     "name": "stderr",
     "output_type": "stream",
     "text": [
      "[Stage 41:======================================>                 (52 + 4) / 75]\r"
     ]
    },
    {
     "name": "stdout",
     "output_type": "stream",
     "text": [
      "+------+\n",
      "|gender|\n",
      "+------+\n",
      "|Female|\n",
      "| Other|\n",
      "|  Male|\n",
      "+------+\n",
      "\n"
     ]
    },
    {
     "name": "stderr",
     "output_type": "stream",
     "text": [
      "                                                                                \r"
     ]
    }
   ],
   "source": [
    "spark.sql(\"\"\"\n",
    "SELECT distinct(gender)\n",
    "FROM df_age_large_than_2_view\"\"\").show()"
   ]
  },
  {
   "cell_type": "code",
   "execution_count": 15,
   "id": "8e3451cf-a1b2-4ac9-864d-e9dd6b3f3915",
   "metadata": {
    "colab": {
     "base_uri": "https://localhost:8080/"
    },
    "id": "9dfe35a4",
    "outputId": "e25bfeca-8f57-4b1c-fbd5-e95195b4590d"
   },
   "outputs": [
    {
     "name": "stderr",
     "output_type": "stream",
     "text": [
      "                                                                                \r"
     ]
    },
    {
     "name": "stdout",
     "output_type": "stream",
     "text": [
      "+---------------+\n",
      "| smoking_status|\n",
      "+---------------+\n",
      "|         smokes|\n",
      "|        Unknown|\n",
      "|   never smoked|\n",
      "|formerly smoked|\n",
      "+---------------+\n",
      "\n"
     ]
    },
    {
     "name": "stderr",
     "output_type": "stream",
     "text": [
      "                                                                                \r"
     ]
    }
   ],
   "source": [
    "spark.sql(\"\"\"\n",
    "SELECT distinct(smoking_status)\n",
    "FROM df_age_large_than_2_view\"\"\").show()"
   ]
  },
  {
   "cell_type": "markdown",
   "id": "850bdfe1",
   "metadata": {
    "id": "HQFPKukRLzbB"
   },
   "source": [
    "#### Change the string values of the columns into numerical values as follow:\n",
    "1. Gender column:\n",
    "    * Male = 1 \n",
    "    * Female = 0 \n",
    "    * Other = 0 \n",
    "2. Smoking Status column:\n",
    "  * never smoked = 0\n",
    "  * Unknown = 0.5\n",
    "  * formerly smoked = 0.75\n",
    "  * smokes = 1.0\n"
   ]
  },
  {
   "cell_type": "code",
   "execution_count": 16,
   "id": "e52e7779-5aeb-4e69-bf25-2a1ac140e41a",
   "metadata": {
    "id": "355f2ef0"
   },
   "outputs": [],
   "source": [
    "def gender_fun(col):\n",
    "    if col == 'Male':\n",
    "        return 1\n",
    "    else:\n",
    "        return 0"
   ]
  },
  {
   "cell_type": "code",
   "execution_count": 17,
   "id": "321470eb-4cfc-43b8-bb67-74468ac3d369",
   "metadata": {
    "id": "yLdOLy514ZHc"
   },
   "outputs": [],
   "source": [
    "def smoking_status_fun(col):\n",
    "    if col == 'never smoked':\n",
    "        return 0.0\n",
    "    elif col == 'Unknown':\n",
    "        return 0.5\n",
    "    elif col == 'formerly smoked':\n",
    "        return 0.75\n",
    "    else:\n",
    "        return 1.0"
   ]
  },
  {
   "cell_type": "code",
   "execution_count": 18,
   "id": "16cc999f-26dd-4ae0-9de3-264db223b481",
   "metadata": {
    "id": "pSNi3lXN2lII"
   },
   "outputs": [],
   "source": [
    "gender_udf_fun = udf(lambda val: gender_fun(val), IntegerType())\n",
    "df_after_edit_gender = df_age_large_than_2.withColumn('gender', gender_udf_fun('gender'))\n",
    "\n",
    "smoking_status_udf_fun = udf(lambda val: smoking_status_fun(val), DoubleType())\n",
    "df_after_edit_gender_and_smoking_status = df_after_edit_gender.withColumn('smoking_status',\\\n",
    "                                                                          smoking_status_udf_fun('smoking_status'))"
   ]
  },
  {
   "cell_type": "code",
   "execution_count": 19,
   "id": "0ee33064-52f2-4d93-b520-9207ca9d4179",
   "metadata": {
    "colab": {
     "base_uri": "https://localhost:8080/"
    },
    "id": "GVkaDcGl4PC1",
    "outputId": "afd516be-c993-4bfa-ed03-b25108438ab4"
   },
   "outputs": [
    {
     "name": "stdout",
     "output_type": "stream",
     "text": [
      "+-----+------+----+------------+-------------+------------+-------------+--------------+-----------------+----+--------------+------+\n",
      "|   id|gender| age|hypertension|heart_disease|ever_married|    work_type|Residence_type|avg_glucose_level| bmi|smoking_status|stroke|\n",
      "+-----+------+----+------------+-------------+------------+-------------+--------------+-----------------+----+--------------+------+\n",
      "| 9046|     1|67.0|           0|            1|         Yes|      Private|         Urban|           228.69|36.6|          0.75|     1|\n",
      "|51676|     0|61.0|           0|            0|         Yes|Self-employed|         Rural|           202.21|null|           0.0|     1|\n",
      "|31112|     1|80.0|           0|            1|         Yes|      Private|         Rural|           105.92|32.5|           0.0|     1|\n",
      "|60182|     0|49.0|           0|            0|         Yes|      Private|         Urban|           171.23|34.4|           1.0|     1|\n",
      "| 1665|     0|79.0|           1|            0|         Yes|Self-employed|         Rural|           174.12|24.0|           0.0|     1|\n",
      "|56669|     1|81.0|           0|            0|         Yes|      Private|         Urban|           186.21|29.0|          0.75|     1|\n",
      "|53882|     1|74.0|           1|            1|         Yes|      Private|         Rural|            70.09|27.4|           0.0|     1|\n",
      "|10434|     0|69.0|           0|            0|          No|      Private|         Urban|            94.39|22.8|           0.0|     1|\n",
      "|27419|     0|59.0|           0|            0|         Yes|      Private|         Rural|            76.15|null|           0.5|     1|\n",
      "|60491|     0|78.0|           0|            0|         Yes|      Private|         Urban|            58.57|24.2|           0.5|     1|\n",
      "|12109|     0|81.0|           1|            0|         Yes|      Private|         Rural|            80.43|29.7|           0.0|     1|\n",
      "|12095|     0|61.0|           0|            1|         Yes|     Govt_job|         Rural|           120.46|36.8|           1.0|     1|\n",
      "|12175|     0|54.0|           0|            0|         Yes|      Private|         Urban|           104.51|27.3|           1.0|     1|\n",
      "| 8213|     1|78.0|           0|            1|         Yes|      Private|         Urban|           219.84|null|           0.5|     1|\n",
      "| 5317|     0|79.0|           0|            1|         Yes|      Private|         Urban|           214.09|28.2|           0.0|     1|\n",
      "|58202|     0|50.0|           1|            0|         Yes|Self-employed|         Rural|           167.41|30.9|           0.0|     1|\n",
      "|56112|     1|64.0|           0|            1|         Yes|      Private|         Urban|           191.61|37.5|           1.0|     1|\n",
      "|34120|     1|75.0|           1|            0|         Yes|      Private|         Urban|           221.29|25.8|           1.0|     1|\n",
      "|27458|     0|60.0|           0|            0|          No|      Private|         Urban|            89.22|37.8|           0.0|     1|\n",
      "|25226|     1|57.0|           0|            1|          No|     Govt_job|         Urban|           217.08|null|           0.5|     1|\n",
      "+-----+------+----+------------+-------------+------------+-------------+--------------+-----------------+----+--------------+------+\n",
      "only showing top 20 rows\n",
      "\n"
     ]
    }
   ],
   "source": [
    "df_after_edit_gender_and_smoking_status.show()"
   ]
  },
  {
   "cell_type": "markdown",
   "id": "3da38a31",
   "metadata": {},
   "source": [
    "#### Show the output DataFrame\n",
    "- Select and show the gender & smoking_status columns after value changing.\n",
    "- Print schema for the new dataframe."
   ]
  },
  {
   "cell_type": "code",
   "execution_count": 20,
   "id": "7df0cf29",
   "metadata": {},
   "outputs": [
    {
     "name": "stdout",
     "output_type": "stream",
     "text": [
      "+------+--------------+\n",
      "|gender|smoking_status|\n",
      "+------+--------------+\n",
      "|     1|          0.75|\n",
      "|     0|           0.0|\n",
      "|     1|           0.0|\n",
      "|     0|           1.0|\n",
      "|     0|           0.0|\n",
      "|     1|          0.75|\n",
      "|     1|           0.0|\n",
      "|     0|           0.0|\n",
      "|     0|           0.5|\n",
      "|     0|           0.5|\n",
      "|     0|           0.0|\n",
      "|     0|           1.0|\n",
      "|     0|           1.0|\n",
      "|     1|           0.5|\n",
      "|     0|           0.0|\n",
      "|     0|           0.0|\n",
      "|     1|           1.0|\n",
      "|     1|           1.0|\n",
      "|     0|           0.0|\n",
      "|     1|           0.5|\n",
      "+------+--------------+\n",
      "only showing top 20 rows\n",
      "\n"
     ]
    }
   ],
   "source": [
    "df_after_edit_gender_and_smoking_status.select('gender', 'smoking_status').show()"
   ]
  },
  {
   "cell_type": "code",
   "execution_count": 21,
   "id": "3a194746-ce98-42cd-a98f-b4571970722f",
   "metadata": {},
   "outputs": [
    {
     "name": "stdout",
     "output_type": "stream",
     "text": [
      "root\n",
      " |-- id: integer (nullable = true)\n",
      " |-- gender: integer (nullable = true)\n",
      " |-- age: double (nullable = true)\n",
      " |-- hypertension: integer (nullable = true)\n",
      " |-- heart_disease: integer (nullable = true)\n",
      " |-- ever_married: string (nullable = true)\n",
      " |-- work_type: string (nullable = true)\n",
      " |-- Residence_type: string (nullable = true)\n",
      " |-- avg_glucose_level: double (nullable = true)\n",
      " |-- bmi: double (nullable = true)\n",
      " |-- smoking_status: double (nullable = true)\n",
      " |-- stroke: integer (nullable = true)\n",
      "\n"
     ]
    }
   ],
   "source": [
    "df_after_edit_gender_and_smoking_status.printSchema()"
   ]
  },
  {
   "cell_type": "markdown",
   "id": "89ce3b77",
   "metadata": {},
   "source": [
    "### Deal with null value according to your data analysis."
   ]
  },
  {
   "cell_type": "code",
   "execution_count": 22,
   "id": "2a560c7f-9ad9-4408-8657-6a1a1ae86c99",
   "metadata": {},
   "outputs": [
    {
     "data": {
      "text/plain": [
       "11.3"
      ]
     },
     "execution_count": 22,
     "metadata": {},
     "output_type": "execute_result"
    }
   ],
   "source": [
    "bmi_median = df_after_edit_gender_and_smoking_status.approxQuantile('bmi', [0.25], 0.25)[0]\n",
    "bmi_median"
   ]
  },
  {
   "cell_type": "code",
   "execution_count": 23,
   "id": "4d78cb87",
   "metadata": {},
   "outputs": [],
   "source": [
    "final_df = df_after_edit_gender_and_smoking_status.fillna(bmi_median, subset=['bmi'])"
   ]
  },
  {
   "cell_type": "markdown",
   "id": "053c429a",
   "metadata": {},
   "source": [
    "### Split the data into training and test dataframes:\n",
    "- 80% training and 20% test.\n",
    "- seed = 42.\n",
    "- Save each dataframe as a parquet file"
   ]
  },
  {
   "cell_type": "code",
   "execution_count": 24,
   "id": "bcb5abd5-3b47-427b-ab67-19d9a1b8b963",
   "metadata": {},
   "outputs": [],
   "source": [
    "trainDF, testDF = final_df.randomSplit([0.8, 0.2], seed = 42)"
   ]
  },
  {
   "cell_type": "code",
   "execution_count": 25,
   "id": "bc9e54d6-4ed0-4daf-9968-09586e4d354c",
   "metadata": {},
   "outputs": [
    {
     "name": "stderr",
     "output_type": "stream",
     "text": [
      "                                                                                \r"
     ]
    }
   ],
   "source": [
    "trainDF.write.parquet('trainDF_parquet')\n",
    "testDF.write.parquet('testDF_parquet')"
   ]
  },
  {
   "cell_type": "markdown",
   "id": "78fa24da",
   "metadata": {},
   "source": [
    "### Read the saved Train and Test DataFrame:\n",
    "- Use the dataframes you read in the subsequent steps."
   ]
  },
  {
   "cell_type": "code",
   "execution_count": 26,
   "id": "c3f5c1e3",
   "metadata": {},
   "outputs": [],
   "source": [
    "trainDF = spark.read.parquet('trainDF_parquet')\n",
    "testDF = spark.read.parquet('testDF_parquet')"
   ]
  },
  {
   "cell_type": "markdown",
   "id": "987b4b40",
   "metadata": {},
   "source": [
    "### Create the model:\n",
    "- Perform feature engineering steps.\n",
    "- Create the logistic regression classifier.\n",
    "- Build the pipeline model that uses all feature engineering steps and the model.\n",
    "- Train the pipeline model using the trainig dataset."
   ]
  },
  {
   "cell_type": "code",
   "execution_count": 27,
   "id": "542898a2-1e13-493a-bdae-e2395dde6d63",
   "metadata": {},
   "outputs": [],
   "source": [
    "from pyspark.ml.feature import VectorAssembler # Transformer\n",
    "from pyspark.ml import Pipeline\n",
    "from pyspark.ml.feature import StringIndexer, OneHotEncoder\n",
    "from pyspark.ml.classification import LogisticRegression"
   ]
  },
  {
   "cell_type": "code",
   "execution_count": 28,
   "id": "86ea9896-7baf-49b6-91a7-ee41d4e15fd6",
   "metadata": {},
   "outputs": [
    {
     "data": {
      "text/plain": [
       "[('id', 'int'),\n",
       " ('gender', 'int'),\n",
       " ('age', 'double'),\n",
       " ('hypertension', 'int'),\n",
       " ('heart_disease', 'int'),\n",
       " ('ever_married', 'string'),\n",
       " ('work_type', 'string'),\n",
       " ('Residence_type', 'string'),\n",
       " ('avg_glucose_level', 'double'),\n",
       " ('bmi', 'double'),\n",
       " ('smoking_status', 'double'),\n",
       " ('stroke', 'int')]"
      ]
     },
     "execution_count": 28,
     "metadata": {},
     "output_type": "execute_result"
    }
   ],
   "source": [
    "trainDF.dtypes"
   ]
  },
  {
   "cell_type": "code",
   "execution_count": 29,
   "id": "4bd7bb4c-8a4b-435f-bc74-47fa21e7843e",
   "metadata": {
    "id": "-ZZxxxKLZnOF"
   },
   "outputs": [],
   "source": [
    "cat_features = [col for (col, dtype) in trainDF.dtypes if (dtype == 'string') ]"
   ]
  },
  {
   "cell_type": "code",
   "execution_count": 30,
   "id": "df2cad29-90c0-4f75-8aa1-52f7b768f022",
   "metadata": {},
   "outputs": [
    {
     "data": {
      "text/plain": [
       "['ever_married', 'work_type', 'Residence_type']"
      ]
     },
     "execution_count": 30,
     "metadata": {},
     "output_type": "execute_result"
    }
   ],
   "source": [
    "cat_features"
   ]
  },
  {
   "cell_type": "code",
   "execution_count": 31,
   "id": "18cc7239-f203-46e2-84fb-1ca524db63fa",
   "metadata": {},
   "outputs": [],
   "source": [
    "indexed_out_cols = [x + \"_index\" for x in cat_features] "
   ]
  },
  {
   "cell_type": "code",
   "execution_count": 32,
   "id": "a936b853-80b0-403f-b03b-a8769a41d07e",
   "metadata": {},
   "outputs": [],
   "source": [
    "stringIndexObject = StringIndexer(inputCols=cat_features, outputCols=indexed_out_cols, handleInvalid='skip')"
   ]
  },
  {
   "cell_type": "code",
   "execution_count": 33,
   "id": "36a08544-754a-4962-a44a-af766f840d6e",
   "metadata": {},
   "outputs": [],
   "source": [
    "ohe_out_cols = [x + \"_OHE\" for x in cat_features] "
   ]
  },
  {
   "cell_type": "code",
   "execution_count": 34,
   "id": "33d3a865-2040-4185-96e5-ad3774c5eefa",
   "metadata": {},
   "outputs": [],
   "source": [
    "OHEObject = OneHotEncoder(inputCols=indexed_out_cols, outputCols=ohe_out_cols)"
   ]
  },
  {
   "cell_type": "code",
   "execution_count": 35,
   "id": "e1950d84-0ddc-4356-b07a-45f4ab2e7b26",
   "metadata": {},
   "outputs": [],
   "source": [
    "numCols = [col for (col, dtype) in trainDF.dtypes if (((dtype == 'double') | (dtype == 'int'))\\\n",
    "                                                      & ((col != 'stroke') & (col != 'id')))]"
   ]
  },
  {
   "cell_type": "code",
   "execution_count": 36,
   "id": "3a16923e-c34b-4753-9e58-ff0bdee1a920",
   "metadata": {},
   "outputs": [
    {
     "data": {
      "text/plain": [
       "['gender',\n",
       " 'age',\n",
       " 'hypertension',\n",
       " 'heart_disease',\n",
       " 'avg_glucose_level',\n",
       " 'bmi',\n",
       " 'smoking_status']"
      ]
     },
     "execution_count": 36,
     "metadata": {},
     "output_type": "execute_result"
    }
   ],
   "source": [
    "numCols"
   ]
  },
  {
   "cell_type": "code",
   "execution_count": 37,
   "id": "d5639ca2-5781-413b-ab93-9f72ff3ca79e",
   "metadata": {},
   "outputs": [
    {
     "data": {
      "text/plain": [
       "['gender',\n",
       " 'age',\n",
       " 'hypertension',\n",
       " 'heart_disease',\n",
       " 'avg_glucose_level',\n",
       " 'bmi',\n",
       " 'smoking_status',\n",
       " 'ever_married_OHE',\n",
       " 'work_type_OHE',\n",
       " 'Residence_type_OHE']"
      ]
     },
     "execution_count": 37,
     "metadata": {},
     "output_type": "execute_result"
    }
   ],
   "source": [
    "assembler_cols = numCols + ohe_out_cols \n",
    "assembler_cols"
   ]
  },
  {
   "cell_type": "code",
   "execution_count": 38,
   "id": "eaa48546-1721-4db7-a1ca-95314dbbc3c8",
   "metadata": {},
   "outputs": [],
   "source": [
    "vectorAssemberObj = VectorAssembler(inputCols = assembler_cols, outputCol = 'features')"
   ]
  },
  {
   "cell_type": "code",
   "execution_count": 39,
   "id": "9e70328a-e4c5-44e7-9615-7fea5695af88",
   "metadata": {},
   "outputs": [],
   "source": [
    "log_reg = LogisticRegression(featuresCol = 'features', labelCol = 'stroke')"
   ]
  },
  {
   "cell_type": "code",
   "execution_count": 40,
   "id": "286b898d-9edf-44f9-8846-52beb6f5bff6",
   "metadata": {},
   "outputs": [],
   "source": [
    "pipeline = Pipeline(stages=[stringIndexObject, OHEObject, vectorAssemberObj, log_reg])"
   ]
  },
  {
   "cell_type": "code",
   "execution_count": 41,
   "id": "1acc3a6e-fa37-494c-a05d-8a04da27d377",
   "metadata": {
    "tags": []
   },
   "outputs": [
    {
     "name": "stderr",
     "output_type": "stream",
     "text": [
      "21/11/03 15:36:42 WARN BLAS: Failed to load implementation from: com.github.fommil.netlib.NativeSystemBLAS\n",
      "21/11/03 15:36:42 WARN BLAS: Failed to load implementation from: com.github.fommil.netlib.NativeRefBLAS\n"
     ]
    }
   ],
   "source": [
    "pipelineModel = pipeline.fit(trainDF) # Transformer"
   ]
  },
  {
   "cell_type": "markdown",
   "id": "a05c2677",
   "metadata": {},
   "source": [
    "### Perform predictions on tests dataframe:\n",
    "- Test the model using the test dataframe\n",
    "- Select and show the feature column.\n",
    "- Print the schema of the output dataframe.\n",
    "- Select and show both prediction and label columns.\n",
    "- Explore the results for the label column stroke=1. i.e. select both columns (prediction,stroke) for stroke=1.<b>notice the result.</b> \n",
    "- Count the predicted 1 and 0 values.<b>notice the result.</b>   "
   ]
  },
  {
   "cell_type": "code",
   "execution_count": 42,
   "id": "1f4e25ee-c11d-4169-bf47-6ef4104ba326",
   "metadata": {},
   "outputs": [],
   "source": [
    "predDF = pipelineModel.transform(testDF) "
   ]
  },
  {
   "cell_type": "code",
   "execution_count": 43,
   "id": "d5c0a9d2-19ff-4030-97e3-8f42b4d29183",
   "metadata": {},
   "outputs": [
    {
     "name": "stdout",
     "output_type": "stream",
     "text": [
      "+-----------------------------------------------------------+\n",
      "|features                                                   |\n",
      "+-----------------------------------------------------------+\n",
      "|(13,[0,1,4,5,7,8,12],[1.0,55.0,89.17,31.5,1.0,1.0,1.0])    |\n",
      "|(13,[1,4,5,8,12],[24.0,97.55,26.2,1.0,1.0])                |\n",
      "|(13,[1,4,5,7,8],[33.0,86.97,42.2,1.0,1.0])                 |\n",
      "|(13,[1,4,5,6,7,8],[43.0,88.23,37.6,0.5,1.0,1.0])           |\n",
      "|(13,[0,1,4,5,7,8,12],[1.0,79.0,198.79,24.9,1.0,1.0,1.0])   |\n",
      "|(13,[1,4,5,7,8],[43.0,110.32,28.4,1.0,1.0])                |\n",
      "|(13,[0,1,2,4,5,7,9],[1.0,78.0,1.0,75.19,27.6,1.0,1.0])     |\n",
      "|(13,[1,4,5,7,9,12],[74.0,74.96,26.6,1.0,1.0,1.0])          |\n",
      "|(13,[1,4,5,6,11],[14.0,92.22,22.8,0.5,1.0])                |\n",
      "|(13,[0,1,4,5,6,7,8],[1.0,69.0,101.52,26.8,1.0,1.0,1.0])    |\n",
      "|(13,[0,1,4,5,6,7,10],[1.0,52.0,87.26,40.1,1.0,1.0,1.0])    |\n",
      "|(13,[1,2,3,4,5,6,8],[82.0,1.0,1.0,84.03,26.5,0.75,1.0])    |\n",
      "|(13,[0,1,4,5,8],[1.0,17.0,81.77,44.7,1.0])                 |\n",
      "|(13,[1,4,5,6,7,9],[73.0,79.69,11.3,0.75,1.0,1.0])          |\n",
      "|(13,[1,2,4,5,7,8],[59.0,1.0,99.06,23.4,1.0,1.0])           |\n",
      "|(13,[1,4,5,6,7,10,12],[60.0,80.86,31.0,1.0,1.0,1.0,1.0])   |\n",
      "|(13,[1,4,5,8,12],[14.0,83.42,28.7,1.0,1.0])                |\n",
      "|[1.0,69.0,1.0,0.0,229.21,30.1,1.0,1.0,1.0,0.0,0.0,0.0,1.0] |\n",
      "|[1.0,70.0,0.0,0.0,202.55,11.3,0.75,1.0,0.0,0.0,1.0,0.0,1.0]|\n",
      "|(13,[1,4,5,8,12],[29.0,71.89,27.6,1.0,1.0])                |\n",
      "+-----------------------------------------------------------+\n",
      "only showing top 20 rows\n",
      "\n"
     ]
    }
   ],
   "source": [
    "predDF.select('features').show(truncate=False)"
   ]
  },
  {
   "cell_type": "code",
   "execution_count": 44,
   "id": "db9a6a4a-58ae-45b5-b416-3ed7c9110ed7",
   "metadata": {},
   "outputs": [
    {
     "name": "stdout",
     "output_type": "stream",
     "text": [
      "root\n",
      " |-- id: integer (nullable = true)\n",
      " |-- gender: integer (nullable = true)\n",
      " |-- age: double (nullable = true)\n",
      " |-- hypertension: integer (nullable = true)\n",
      " |-- heart_disease: integer (nullable = true)\n",
      " |-- ever_married: string (nullable = true)\n",
      " |-- work_type: string (nullable = true)\n",
      " |-- Residence_type: string (nullable = true)\n",
      " |-- avg_glucose_level: double (nullable = true)\n",
      " |-- bmi: double (nullable = true)\n",
      " |-- smoking_status: double (nullable = true)\n",
      " |-- stroke: integer (nullable = true)\n",
      " |-- ever_married_index: double (nullable = false)\n",
      " |-- work_type_index: double (nullable = false)\n",
      " |-- Residence_type_index: double (nullable = false)\n",
      " |-- ever_married_OHE: vector (nullable = true)\n",
      " |-- work_type_OHE: vector (nullable = true)\n",
      " |-- Residence_type_OHE: vector (nullable = true)\n",
      " |-- features: vector (nullable = true)\n",
      " |-- rawPrediction: vector (nullable = true)\n",
      " |-- probability: vector (nullable = true)\n",
      " |-- prediction: double (nullable = false)\n",
      "\n"
     ]
    }
   ],
   "source": [
    "predDF.printSchema()"
   ]
  },
  {
   "cell_type": "code",
   "execution_count": 45,
   "id": "382a3a3a-b5c0-4b66-920a-ac79040eb261",
   "metadata": {},
   "outputs": [
    {
     "name": "stdout",
     "output_type": "stream",
     "text": [
      "+------+----------+\n",
      "|stroke|prediction|\n",
      "+------+----------+\n",
      "|0     |0.0       |\n",
      "|0     |0.0       |\n",
      "|0     |0.0       |\n",
      "|0     |0.0       |\n",
      "|0     |0.0       |\n",
      "|0     |0.0       |\n",
      "|0     |0.0       |\n",
      "|1     |0.0       |\n",
      "|0     |0.0       |\n",
      "|0     |0.0       |\n",
      "|0     |0.0       |\n",
      "|1     |0.0       |\n",
      "|0     |0.0       |\n",
      "|0     |0.0       |\n",
      "|0     |0.0       |\n",
      "|0     |0.0       |\n",
      "|0     |0.0       |\n",
      "|0     |0.0       |\n",
      "|0     |0.0       |\n",
      "|0     |0.0       |\n",
      "+------+----------+\n",
      "only showing top 20 rows\n",
      "\n"
     ]
    }
   ],
   "source": [
    "predDF.select(\"stroke\", \"prediction\").show(truncate=False)"
   ]
  },
  {
   "cell_type": "code",
   "execution_count": 46,
   "id": "34b5775c-70ef-433f-acb4-999fc98daadc",
   "metadata": {
    "colab": {
     "base_uri": "https://localhost:8080/"
    },
    "id": "3N-fOy3zNBMV",
    "outputId": "6cec1aac-2452-4e46-a3df-bea296542678",
    "tags": []
   },
   "outputs": [
    {
     "name": "stdout",
     "output_type": "stream",
     "text": [
      "+------+----------+\n",
      "|stroke|prediction|\n",
      "+------+----------+\n",
      "|     1|       0.0|\n",
      "|     1|       0.0|\n",
      "|     1|       0.0|\n",
      "|     1|       0.0|\n",
      "|     1|       0.0|\n",
      "|     1|       0.0|\n",
      "|     1|       0.0|\n",
      "|     1|       0.0|\n",
      "|     1|       0.0|\n",
      "|     1|       0.0|\n",
      "|     1|       0.0|\n",
      "|     1|       0.0|\n",
      "|     1|       0.0|\n",
      "|     1|       0.0|\n",
      "|     1|       0.0|\n",
      "|     1|       0.0|\n",
      "|     1|       0.0|\n",
      "|     1|       0.0|\n",
      "|     1|       0.0|\n",
      "|     1|       0.0|\n",
      "+------+----------+\n",
      "only showing top 20 rows\n",
      "\n"
     ]
    }
   ],
   "source": [
    "predDF.select('stroke', 'prediction').filter('stroke = 1').show()"
   ]
  },
  {
   "cell_type": "code",
   "execution_count": 47,
   "id": "50dbd637-5226-439d-be5a-f102432cbb53",
   "metadata": {},
   "outputs": [
    {
     "name": "stderr",
     "output_type": "stream",
     "text": [
      "                                                                                \r"
     ]
    },
    {
     "name": "stdout",
     "output_type": "stream",
     "text": [
      "+----------+-----+\n",
      "|prediction|count|\n",
      "+----------+-----+\n",
      "|       0.0|  953|\n",
      "+----------+-----+\n",
      "\n"
     ]
    },
    {
     "name": "stderr",
     "output_type": "stream",
     "text": [
      "                                                                                \r"
     ]
    }
   ],
   "source": [
    "predDF.groupBy(\"prediction\").count().show()"
   ]
  },
  {
   "cell_type": "markdown",
   "id": "daec120f",
   "metadata": {},
   "source": [
    "### Evaluate the model performance\n",
    "- Use <b>BinaryClassificationEvaluator</b>. This will calculate the <b>ROC</b>.\n",
    "- Set the parameters as follow:\n",
    "    - <b>rawPredictionCol='prediction'</b> and <b>labelCol='stroke'</b>"
   ]
  },
  {
   "cell_type": "code",
   "execution_count": 48,
   "id": "a7b5ad25",
   "metadata": {},
   "outputs": [],
   "source": [
    "from pyspark.ml.evaluation import BinaryClassificationEvaluator"
   ]
  },
  {
   "cell_type": "code",
   "execution_count": 49,
   "id": "44d3a1e6",
   "metadata": {},
   "outputs": [],
   "source": [
    "evaluatorROC = BinaryClassificationEvaluator(rawPredictionCol='prediction'\n",
    "                                             ,labelCol='stroke')"
   ]
  },
  {
   "cell_type": "code",
   "execution_count": 50,
   "id": "3adbe41f",
   "metadata": {},
   "outputs": [
    {
     "data": {
      "text/plain": [
       "0.5"
      ]
     },
     "execution_count": 50,
     "metadata": {},
     "output_type": "execute_result"
    }
   ],
   "source": [
    "evaluatorROC.evaluate(predDF)"
   ]
  },
  {
   "cell_type": "markdown",
   "id": "40206589",
   "metadata": {},
   "source": [
    "### Improve Model Performance\n",
    "- You may noticed that <b>the target label is imbalanced</b>.\n",
    "- LogisticRegression classifier has a special parameter <b>weightCol</b> to deal with imbalanced class.\n",
    "- In order to use this parameter you must have a <b>weightCol</b> in your training dataframe.\n",
    "- In order to create this column you will need to define a <b>UDF</b> and apply it to the target label column.\n",
    "- Create a LogisticRegression classifier with <b>weightCol</b> parameter.\n",
    "- Build and train a pipeline model with the new LogisticRegression.\n",
    "- Perform the prediction on the test dataframe. \n",
    "- Select and show both prediction and label columns.\n",
    "- Explore the results for the label column stroke=1. i.e. select both columns (prediction,stroke) for stroke=1.<b>notice the result.</b> \n",
    "- Count the predicted 1 and 0 values.<b>notice the result.</b>   \n",
    "- Evaluate the model performance exactly as in the previous step.\n",
    "### YOU SHOULD OBTAIN  ROC > 0.65\n",
    "<BR>\n",
    "<b><font color='red'>Note: feel free to deal with the imbalanced cluster with the above method or another. However, you can only use methods applied on SPARK DATAFRAME</font></b>"
   ]
  },
  {
   "cell_type": "code",
   "execution_count": 51,
   "id": "6613401d-d724-41d9-a080-f298e53f926d",
   "metadata": {},
   "outputs": [
    {
     "name": "stderr",
     "output_type": "stream",
     "text": [
      "                                                                                \r"
     ]
    }
   ],
   "source": [
    "one_counts = trainDF.groupBy(\"stroke\").count().collect()[0][1]\n",
    "zero_counts = trainDF.groupBy(\"stroke\").count().collect()[1][1]"
   ]
  },
  {
   "cell_type": "code",
   "execution_count": 52,
   "id": "310c9082-85c7-4b5f-8243-56fb2b193a00",
   "metadata": {
    "id": "V3AtKYk9FK7t"
   },
   "outputs": [],
   "source": [
    "train_counts = zero_counts + one_counts\n",
    "ratio_of_zeros = zero_counts / train_counts\n",
    "ratio_of_ones = one_counts / train_counts"
   ]
  },
  {
   "cell_type": "code",
   "execution_count": 53,
   "id": "146bfc33-a16c-47d1-b6a7-6453a0f9462b",
   "metadata": {},
   "outputs": [
    {
     "data": {
      "text/plain": [
       "0.9499628436958137"
      ]
     },
     "execution_count": 53,
     "metadata": {},
     "output_type": "execute_result"
    }
   ],
   "source": [
    "ratio_of_zeros"
   ]
  },
  {
   "cell_type": "code",
   "execution_count": 54,
   "id": "a2042aca-64c6-4a85-8bfb-275882ac9106",
   "metadata": {},
   "outputs": [
    {
     "data": {
      "text/plain": [
       "0.05003715630418628"
      ]
     },
     "execution_count": 54,
     "metadata": {},
     "output_type": "execute_result"
    }
   ],
   "source": [
    "ratio_of_ones"
   ]
  },
  {
   "cell_type": "code",
   "execution_count": 55,
   "id": "337ab043-8a06-43e3-9f75-7a6ba3163897",
   "metadata": {
    "id": "VXl0pEkFFSDE"
   },
   "outputs": [],
   "source": [
    "def weighted_col_fun(col):\n",
    "    if col == 0:\n",
    "        return ratio_of_ones\n",
    "    else:\n",
    "        return ratio_of_zeros"
   ]
  },
  {
   "cell_type": "code",
   "execution_count": 56,
   "id": "5d1eaffd-07b6-40f0-b04a-5f3d5badabec",
   "metadata": {
    "id": "DJpKEGMOMI3E"
   },
   "outputs": [],
   "source": [
    "weighted_col_udf_fun = udf(lambda val: weighted_col_fun(val), DoubleType())\n",
    "trainDF_with_weight = trainDF.withColumn('weighted_col', weighted_col_udf_fun('stroke'))"
   ]
  },
  {
   "cell_type": "code",
   "execution_count": 57,
   "id": "58dc6968-a247-4f38-8515-a6bee8e2c8c5",
   "metadata": {
    "colab": {
     "base_uri": "https://localhost:8080/"
    },
    "id": "3WlCPeCRMI9o",
    "outputId": "b207d53f-ae21-4281-9fde-ad67ca9762cf"
   },
   "outputs": [
    {
     "name": "stdout",
     "output_type": "stream",
     "text": [
      "+------+-------------------+\n",
      "|stroke|weighted_col       |\n",
      "+------+-------------------+\n",
      "|0     |0.05003715630418628|\n",
      "|0     |0.05003715630418628|\n",
      "|0     |0.05003715630418628|\n",
      "|0     |0.05003715630418628|\n",
      "|0     |0.05003715630418628|\n",
      "|0     |0.05003715630418628|\n",
      "|0     |0.05003715630418628|\n",
      "|0     |0.05003715630418628|\n",
      "|0     |0.05003715630418628|\n",
      "|0     |0.05003715630418628|\n",
      "|1     |0.9499628436958137 |\n",
      "|0     |0.05003715630418628|\n",
      "|0     |0.05003715630418628|\n",
      "|0     |0.05003715630418628|\n",
      "|0     |0.05003715630418628|\n",
      "|0     |0.05003715630418628|\n",
      "|0     |0.05003715630418628|\n",
      "|0     |0.05003715630418628|\n",
      "|0     |0.05003715630418628|\n",
      "|0     |0.05003715630418628|\n",
      "+------+-------------------+\n",
      "only showing top 20 rows\n",
      "\n"
     ]
    }
   ],
   "source": [
    "trainDF_with_weight.select('stroke', 'weighted_col').show(truncate=False)"
   ]
  },
  {
   "cell_type": "code",
   "execution_count": 58,
   "id": "6fc674b3-125d-4107-bbcd-1650d5caf914",
   "metadata": {},
   "outputs": [],
   "source": [
    "log_reg2 = LogisticRegression(featuresCol = 'features', labelCol = 'stroke', weightCol = 'weighted_col')"
   ]
  },
  {
   "cell_type": "code",
   "execution_count": 59,
   "id": "4b06157d-9531-4bba-9de7-b91dd130a0da",
   "metadata": {},
   "outputs": [],
   "source": [
    "pipeline2 = Pipeline(stages=[stringIndexObject, OHEObject, vectorAssemberObj, log_reg2])"
   ]
  },
  {
   "cell_type": "code",
   "execution_count": 60,
   "id": "fada4195-03ce-4c78-a7a5-b2dbb9363171",
   "metadata": {
    "tags": []
   },
   "outputs": [
    {
     "name": "stderr",
     "output_type": "stream",
     "text": [
      "                                                                                \r"
     ]
    }
   ],
   "source": [
    "pipelineModel2 = pipeline2.fit(trainDF_with_weight) # Transformer"
   ]
  },
  {
   "cell_type": "code",
   "execution_count": 61,
   "id": "d2c92510-0147-4fe9-aca7-913b8bbe087b",
   "metadata": {},
   "outputs": [],
   "source": [
    "predDF2 = pipelineModel2.transform(testDF) "
   ]
  },
  {
   "cell_type": "code",
   "execution_count": 62,
   "id": "107bc89d-742c-4922-8449-662ebfc26918",
   "metadata": {},
   "outputs": [
    {
     "name": "stdout",
     "output_type": "stream",
     "text": [
      "+------+----------+\n",
      "|stroke|prediction|\n",
      "+------+----------+\n",
      "|0     |0.0       |\n",
      "|0     |0.0       |\n",
      "|0     |0.0       |\n",
      "|0     |0.0       |\n",
      "|0     |1.0       |\n",
      "|0     |0.0       |\n",
      "|0     |1.0       |\n",
      "|1     |1.0       |\n",
      "|0     |0.0       |\n",
      "|0     |1.0       |\n",
      "|0     |0.0       |\n",
      "|1     |1.0       |\n",
      "|0     |0.0       |\n",
      "|0     |1.0       |\n",
      "|0     |1.0       |\n",
      "|0     |1.0       |\n",
      "|0     |0.0       |\n",
      "|0     |1.0       |\n",
      "|0     |1.0       |\n",
      "|0     |0.0       |\n",
      "+------+----------+\n",
      "only showing top 20 rows\n",
      "\n"
     ]
    }
   ],
   "source": [
    "predDF2.select(\"stroke\", \"prediction\").show(truncate=False)"
   ]
  },
  {
   "cell_type": "code",
   "execution_count": 63,
   "id": "ed0addcc-7e1c-4f60-838b-e64941cddc4b",
   "metadata": {
    "colab": {
     "base_uri": "https://localhost:8080/"
    },
    "id": "3N-fOy3zNBMV",
    "outputId": "6cec1aac-2452-4e46-a3df-bea296542678",
    "tags": []
   },
   "outputs": [
    {
     "name": "stdout",
     "output_type": "stream",
     "text": [
      "+------+----------+\n",
      "|stroke|prediction|\n",
      "+------+----------+\n",
      "|     1|       1.0|\n",
      "|     1|       1.0|\n",
      "|     1|       1.0|\n",
      "|     1|       1.0|\n",
      "|     1|       1.0|\n",
      "|     1|       1.0|\n",
      "|     1|       1.0|\n",
      "|     1|       1.0|\n",
      "|     1|       0.0|\n",
      "|     1|       1.0|\n",
      "|     1|       1.0|\n",
      "|     1|       1.0|\n",
      "|     1|       1.0|\n",
      "|     1|       1.0|\n",
      "|     1|       1.0|\n",
      "|     1|       1.0|\n",
      "|     1|       1.0|\n",
      "|     1|       1.0|\n",
      "|     1|       1.0|\n",
      "|     1|       1.0|\n",
      "+------+----------+\n",
      "only showing top 20 rows\n",
      "\n"
     ]
    }
   ],
   "source": [
    "predDF2.select('stroke', 'prediction').filter('stroke = 1').show()"
   ]
  },
  {
   "cell_type": "code",
   "execution_count": 64,
   "id": "73e1463d-61be-4d81-bcd1-5bfa21f61f13",
   "metadata": {},
   "outputs": [
    {
     "name": "stderr",
     "output_type": "stream",
     "text": [
      "                                                                                \r"
     ]
    },
    {
     "name": "stdout",
     "output_type": "stream",
     "text": [
      "+----------+-----+\n",
      "|prediction|count|\n",
      "+----------+-----+\n",
      "|       0.0|  670|\n",
      "|       1.0|  283|\n",
      "+----------+-----+\n",
      "\n"
     ]
    },
    {
     "name": "stderr",
     "output_type": "stream",
     "text": [
      "                                                                                \r"
     ]
    }
   ],
   "source": [
    "predDF2.groupBy(\"prediction\").count().show()"
   ]
  },
  {
   "cell_type": "code",
   "execution_count": 65,
   "id": "4e8c18b5",
   "metadata": {},
   "outputs": [
    {
     "data": {
      "text/plain": [
       "0.8008245050572839"
      ]
     },
     "execution_count": 65,
     "metadata": {},
     "output_type": "execute_result"
    }
   ],
   "source": [
    "evaluatorROC.evaluate(predDF2)"
   ]
  }
 ],
 "metadata": {
  "kernelspec": {
   "display_name": "Python 3 (ipykernel)",
   "language": "python",
   "name": "python3"
  },
  "language_info": {
   "codemirror_mode": {
    "name": "ipython",
    "version": 3
   },
   "file_extension": ".py",
   "mimetype": "text/x-python",
   "name": "python",
   "nbconvert_exporter": "python",
   "pygments_lexer": "ipython3",
   "version": "3.8.10"
  }
 },
 "nbformat": 4,
 "nbformat_minor": 5
}
